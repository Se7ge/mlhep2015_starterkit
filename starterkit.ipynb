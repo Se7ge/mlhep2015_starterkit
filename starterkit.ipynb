{
 "worksheets": [
  {
   "cells": [
    {
     "cell_type": "code",
     "execution_count": null,
     "metadata": {},
     "outputs": [],
     "input": [
      "%matplotlib inline\n",
      "import pandas as pd\n",
      "import numpy as np\n",
      "\n",
      "from sklearn.ensemble import RandomForestClassifier, AdaBoostClassifier"
     ],
     "language": "python"
    },
    {
     "cell_type": "code",
     "execution_count": null,
     "metadata": {},
     "outputs": [],
     "input": [
      "hits_train = pd.read_csv(\"data/train.csv\", index_col='global_id')\n",
      "hits_test = pd.read_csv(\"data/test.csv\", index_col='global_id')\n",
      "wires = pd.read_csv(\"data/wires.csv\", index_col='wire_id')"
     ],
     "language": "python"
    },
    {
     "cell_type": "code",
     "execution_count": null,
     "metadata": {},
     "outputs": [],
     "input": [
      "rf_classifier = RandomForestClassifier(criterion='gini', n_estimators=200)\n",
      "classifier = AdaBoostClassifier(base_estimator=rf_classifier, n_estimators=100)"
     ],
     "language": "python"
    },
    {
     "cell_type": "code",
     "execution_count": null,
     "metadata": {},
     "outputs": [],
     "input": [
      "hits_train.loc[:, 'wire_rho'] = wires.loc[hits_train.wire_id.values, \"wire_rho\"].values\n",
      "hits_train.loc[:, 'wire_phi'] = wires.loc[hits_train.wire_id.values, \"wire_phi\"].values\n",
      "\n",
      "hits_train['rho_cos_phi'] = hits_train['wire_rho'] * np.cos(hits_train['wire_phi'])\n",
      "hits_train['rho_sin_phi'] = hits_train['wire_rho'] * np.sin(hits_train['wire_phi'])\n",
      "\n",
      "hits_train['transformed_energy'] = np.log(hits_train['energy_deposit'])**2\n",
      "hits_train['transformed_time'] = hits_train['relative_time']**2\n",
      "\n",
      "_features = ['transformed_energy', 'transformed_time', 'wire_rho', 'wire_phi', 'rho_cos_phi', 'rho_sin_phi']"
     ],
     "language": "python"
    },
    {
     "cell_type": "code",
     "execution_count": null,
     "metadata": {},
     "outputs": [],
     "input": [
      "hits_test.loc[:, 'wire_rho'] = wires.loc[hits_test.wire_id.values, \"wire_rho\"].values\n",
      "hits_test.loc[:, 'wire_phi'] = wires.loc[hits_test.wire_id.values, \"wire_phi\"].values\n",
      "\n",
      "hits_test['rho_cos_phi'] = hits_test['wire_rho'] * np.cos(hits_test['wire_phi'])\n",
      "hits_test['rho_sin_phi'] = hits_test['wire_rho'] * np.sin(hits_test['wire_phi'])\n",
      "\n",
      "hits_test['transformed_energy'] = np.log(hits_test['energy_deposit'])**2\n",
      "hits_test['transformed_time'] = hits_test['relative_time']**2\n",
      "candidates = hits_test.loc[hits_test.energy_deposit > 0]"
     ],
     "language": "python"
    },
    {
     "cell_type": "code",
     "execution_count": null,
     "metadata": {},
     "outputs": [],
     "input": [
      "classifier.fit(hits_train[hits_train.energy_deposit > 0][_features], \n",
      "               (hits_train[hits_train.energy_deposit > 0].label == 1).values)"
     ],
     "language": "python"
    },
    {
     "cell_type": "code",
     "execution_count": null,
     "metadata": {},
     "outputs": [],
     "input": [
      "prediction = pd.DataFrame({\n",
      "        \"prediction\": classifier.predict_proba(candidates[_features])[:, 1]}, index=candidates.index) \n"
     ],
     "language": "python"
    },
    {
     "cell_type": "code",
     "execution_count": null,
     "metadata": {},
     "outputs": [],
     "input": [
      ""
     ],
     "language": "python"
    }
   ]
  }
 ],
 "cells": [],
 "metadata": {},
 "nbformat": 3,
 "nbformat_minor": 0
}